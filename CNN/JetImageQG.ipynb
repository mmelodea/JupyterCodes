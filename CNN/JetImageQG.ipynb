{
 "cells": [
  {
   "cell_type": "code",
   "execution_count": 1,
   "metadata": {
    "collapsed": true
   },
   "outputs": [],
   "source": [
    "#set adequate flag for Theano on lxplus\n",
    "import theano\n",
    "theano.config.gcc.cxxflags = '-march=corei7'"
   ]
  },
  {
   "cell_type": "code",
   "execution_count": 2,
   "metadata": {},
   "outputs": [
    {
     "name": "stderr",
     "output_type": "stream",
     "text": [
      "Using Theano backend.\n"
     ]
    }
   ],
   "source": [
    "#check config\n",
    "import keras.backend as K\n",
    "K.set_image_dim_ordering('th')\n",
    "#print 'Keras backend:', K.backend()\n",
    "#print 'Keras image ordering operator: ', K.image_dim_ordering()"
   ]
  },
  {
   "cell_type": "code",
   "execution_count": 3,
   "metadata": {},
   "outputs": [
    {
     "data": {
      "application/javascript": [
       "\n",
       "require(['notebook'],\n",
       "  function() {\n",
       "    IPython.CodeCell.config_defaults.highlight_modes['magic_text/x-c++src'] = {'reg':[/^%%cpp/]};\n",
       "    console.log(\"JupyROOT - %%cpp magic configured\");\n",
       "  }\n",
       ");\n"
      ]
     },
     "metadata": {},
     "output_type": "display_data"
    },
    {
     "name": "stdout",
     "output_type": "stream",
     "text": [
      "Welcome to JupyROOT 6.07/07\n"
     ]
    }
   ],
   "source": [
    "#load needed things\n",
    "from sklearn.preprocessing import LabelEncoder\n",
    "from sklearn.model_selection import train_test_split\n",
    "from sklearn.model_selection import cross_val_score\n",
    "from sklearn.model_selection import StratifiedKFold\n",
    "from sklearn.preprocessing import StandardScaler\n",
    "from sklearn.pipeline import Pipeline\n",
    "from keras.models import Sequential, Model\n",
    "from keras.optimizers import SGD\n",
    "from keras.layers import Input, Activation, Dense, Convolution2D, MaxPooling2D, Dropout, Flatten\n",
    "from keras.utils import np_utils\n",
    "from keras.wrappers.scikit_learn import KerasClassifier\n",
    "from keras.callbacks import EarlyStopping\n",
    "import numpy as np\n",
    "import matplotlib as mpl\n",
    "import matplotlib.pyplot as pyp\n",
    "import ROOT\n",
    "import itertools\n",
    "import math\n",
    "\n",
    "# fix random seed for reproducibility\n",
    "seed = 7\n",
    "np.random.seed(seed)"
   ]
  },
  {
   "cell_type": "code",
   "execution_count": 4,
   "metadata": {
    "collapsed": true
   },
   "outputs": [],
   "source": [
    "#format the inputs from TTree\n",
    "# 4D tensor (theano backend)\n",
    "# 1st dim is jet index\n",
    "# 2nd dim is eta bin\n",
    "# 3rd dim is phi bin\n",
    "# 4th dim is props value (pt, charge, pdgId, etc.)\n",
    "def formatInputs(files):\n",
    "    quark_jets = []#type 1\n",
    "    gluon_jets = []#type 0\n",
    "\n",
    "    for ifile in files:\n",
    "        tree = ifile.Get('JetImage')\n",
    "            \n",
    "        for ievt, evt in enumerate(tree):            \n",
    "            #get PFJets\n",
    "            nPFJets = evt.PFJetEta.size()\n",
    "            for iPFJet in range(nPFJets):\n",
    "                pfJetDistance = evt.PFJetDistance[iPFJet]\n",
    "                pfjet = []\n",
    "                pt  = []\n",
    "                eta = []\n",
    "                phi = []\n",
    "                e = []\n",
    "                charge = []\n",
    "                pdgId = []\n",
    "                    \n",
    "                #get daughters\n",
    "                nDaughters = evt.SubJetEta[iPFJet].size()\n",
    "                for iDau in range(nDaughters):\n",
    "                    pt.append( evt.SubJetPt[iPFJet][iDau] )\n",
    "                    eta.append( evt.SubJetEta[iPFJet][iDau] )\n",
    "                    phi.append( evt.SubJetPhi[iPFJet][iDau] )\n",
    "                    e.append( evt.SubJetE[iPFJet][iDau] )\n",
    "                    charge.append( evt.SubJetCharge[iPFJet][iDau] )\n",
    "                    pdgId.append( evt.SubJetPDGID[iPFJet][iDau] )\n",
    "                \n",
    "                #creates the vector of pfjets properties\n",
    "                pfjet.append(pfJetDistance)\n",
    "                pfjet.append(pt)\n",
    "                pfjet.append(eta)\n",
    "                pfjet.append(phi)\n",
    "                pfjet.append(e)\n",
    "                pfjet.append(charge)\n",
    "                pfjet.append(pdgId)\n",
    "                \n",
    "                #decides if quark or gluon jet\n",
    "                if evt.PFJetType[iPFJet] == 1:\n",
    "                    quark_jets.append(pfjet)\n",
    "                if evt.PFJetType[iPFJet] == 0:\n",
    "                    gluon_jets.append(pfjet)\n",
    "                    \n",
    "    return quark_jets, gluon_jets"
   ]
  },
  {
   "cell_type": "code",
   "execution_count": 5,
   "metadata": {},
   "outputs": [
    {
     "name": "stdout",
     "output_type": "stream",
     "text": [
      "quark jets: 132654\n",
      "gluon jets: 16188\n"
     ]
    }
   ],
   "source": [
    "#loads input data\n",
    "vbf_inputs = ROOT.TFile.Open('/afs/cern.ch/work/m/mmelodea/private/MonoHiggs/CMSSW_9_0_0/src/JetImageFiles/VBF_HToZZTo4L_M125_13TeV_powheg2_JHUgenV6_pythia8.root')\n",
    "ggh_inputs = ROOT.TFile.Open('/afs/cern.ch/work/m/mmelodea/private/MonoHiggs/CMSSW_9_0_0/src/JetImageFiles/GluGluHToZZTo4L_M125_13TeV_powheg2_JHUgenV6_pythia8.root')\n",
    "inputs = [vbf_inputs,ggh_inputs]\n",
    "\n",
    "#format tree inputs to adequate shape\n",
    "quark_jets, gluon_jets = formatInputs(inputs)\n",
    "print 'quark jets: %i' % len(quark_jets)\n",
    "print 'gluon jets: %i' % len(gluon_jets)"
   ]
  },
  {
   "cell_type": "code",
   "execution_count": 37,
   "metadata": {},
   "outputs": [
    {
     "name": "stdout",
     "output_type": "stream",
     "text": [
      "quark jets: 8370 (0.06)\n",
      "gluon jets: 8370 (0.52)\n"
     ]
    }
   ],
   "source": [
    "#filter events based on DR(eta,phi)\n",
    "maxDr = 0.4 #jet radius - ak4PFJetCHS\n",
    "fquark_jets = []\n",
    "fgluon_jets = []\n",
    "\n",
    "for ijet in quark_jets:\n",
    "    if(ijet[0] < maxDr):\n",
    "        fquark_jets.append(ijet)\n",
    "        \n",
    "for ijet in gluon_jets:\n",
    "    if(ijet[0] < maxDr):\n",
    "        fgluon_jets.append(ijet)\n",
    "        \n",
    "maxjets = min(len(fquark_jets),len(fgluon_jets))\n",
    "fquark_jets = [fquark_jets[i] for i in range(maxjets)]\n",
    "fgluon_jets = [fgluon_jets[i] for i in range(maxjets)]\n",
    "print 'quark jets: %i (%.2f)' % (len(fquark_jets),len(fquark_jets)/float(len(quark_jets)))\n",
    "print 'gluon jets: %i (%.2f)' % (len(fgluon_jets),len(fgluon_jets)/float(len(gluon_jets)))"
   ]
  },
  {
   "cell_type": "code",
   "execution_count": 38,
   "metadata": {},
   "outputs": [
    {
     "data": {
      "image/png": "[encoded data removed]",
      "text/plain": [
       "<matplotlib.figure.Figure at 0x7f3d519fdfd0>"
      ]
     },
     "metadata": {},
     "output_type": "display_data"
    }
   ],
   "source": [
    "#checking jet distance to hard scattering parton\n",
    "qjets_dr = []\n",
    "qweights = []\n",
    "gjets_dr = []\n",
    "gweights = []\n",
    "\n",
    "njets = len(fquark_jets)\n",
    "for iqj in range(njets):\n",
    "    qjets_dr.append(fquark_jets[iqj][0])\n",
    "    qweights.append(1./njets)\n",
    "    \n",
    "njets = len(fgluon_jets)    \n",
    "for igj in range(njets):\n",
    "    gjets_dr.append(fgluon_jets[igj][0])\n",
    "    gweights.append(1./njets)\n",
    "\n",
    "fig = pyp.figure()\n",
    "fig.set_figheight(6)\n",
    "fig.set_figwidth(7)\n",
    "\n",
    "bins = np.linspace(0, 0.8, 100)\n",
    "fig = pyp.hist(qjets_dr, bins, weights=qweights, alpha=0.5, color='red', label='quark')\n",
    "fig = pyp.hist(gjets_dr, bins, weights=gweights, alpha=0.5, color='blue',label='gluon')\n",
    "fig = pyp.xlabel('DR(parton,jet)')\n",
    "fig = pyp.ylabel('fraction of jets/bin')\n",
    "pyp.legend(loc='upper right')\n",
    "#pyp.gca().set_yscale(\"log\")\n",
    "\n",
    "pyp.tight_layout()\n",
    "fig = pyp.show()"
   ]
  },
  {
   "cell_type": "code",
   "execution_count": 39,
   "metadata": {},
   "outputs": [
    {
     "data": {
      "image/png": "[encoded data removed]",
      "text/plain": [
       "<matplotlib.figure.Figure at 0x7f3d649c9610>"
      ]
     },
     "metadata": {},
     "output_type": "display_data"
    }
   ],
   "source": [
    "#checking jet constituents multiplicity\n",
    "qjets_subjetness = []\n",
    "qweights = []\n",
    "gjets_subjetness = []\n",
    "gweights = []\n",
    "\n",
    "njets = len(fquark_jets)\n",
    "for iqj in range(njets):\n",
    "    qjets_subjetness.append(len(fquark_jets[iqj][1]))\n",
    "    qweights.append(1./njets)\n",
    "\n",
    "njets = len(fgluon_jets)\n",
    "for igj in range(njets):\n",
    "    gjets_subjetness.append(len(fgluon_jets[igj][1]))\n",
    "    gweights.append(1./njets)\n",
    "\n",
    "fig = pyp.figure()\n",
    "fig.set_figheight(6)\n",
    "fig.set_figwidth(7)\n",
    "\n",
    "bins = np.linspace(0, 50, 50)\n",
    "fig = pyp.hist(qjets_subjetness, bins, weights=qweights, alpha=0.5, color='red', label='quark')\n",
    "fig = pyp.hist(gjets_subjetness, bins, weights=gweights, alpha=0.5, color='blue',label='gluon')\n",
    "fig = pyp.xlabel('subjetness')\n",
    "fig = pyp.ylabel('fraction of jets/bin')\n",
    "pyp.legend(loc='upper right')\n",
    "#pyp.gca().set_yscale(\"log\")\n",
    "\n",
    "pyp.tight_layout()\n",
    "fig = pyp.show()"
   ]
  },
  {
   "cell_type": "code",
   "execution_count": 40,
   "metadata": {},
   "outputs": [
    {
     "data": {
      "image/png": "[encoded data removed]",
      "text/plain": [
       "<matplotlib.figure.Figure at 0x7f3d3e871c10>"
      ]
     },
     "metadata": {},
     "output_type": "display_data"
    }
   ],
   "source": [
    "#checking jet energy distribution over constituents\n",
    "qjets_ptD = []\n",
    "gjets_ptD = []\n",
    "\n",
    "njets = len(fquark_jets)\n",
    "for iqj in range(njets):\n",
    "    sum_pt = 0\n",
    "    sum_pt2 = 0\n",
    "    for iiqj in range(len(fquark_jets[iqj][1])):\n",
    "        sum_pt += fquark_jets[iqj][1][iiqj]\n",
    "        sum_pt2 += math.pow(fquark_jets[iqj][1][iiqj],2)\n",
    "    ptD = math.sqrt(sum_pt2)/sum_pt\n",
    "    qjets_ptD.append(ptD)\n",
    "\n",
    "njets = len(fgluon_jets)\n",
    "for igj in range(njets):\n",
    "    sum_pt = 0\n",
    "    sum_pt2 = 0\n",
    "    for iigj in range(len(fgluon_jets[igj][1])):\n",
    "        sum_pt += fgluon_jets[igj][1][iigj]\n",
    "        sum_pt2 += math.pow(fgluon_jets[igj][1][iigj],2)\n",
    "    ptD = math.sqrt(sum_pt2)/sum_pt\n",
    "    gjets_ptD.append(ptD)\n",
    "    \n",
    "\n",
    "fig = pyp.figure()\n",
    "fig.set_figheight(6)\n",
    "fig.set_figwidth(7)\n",
    "\n",
    "bins = np.linspace(0, 1, 50)\n",
    "fig = pyp.hist(qjets_ptD, bins, weights=qweights, alpha=0.5, color='red', label='quark')\n",
    "fig = pyp.hist(gjets_ptD, bins, weights=gweights, alpha=0.5, color='blue',label='gluon')\n",
    "fig = pyp.xlabel('pTD')\n",
    "fig = pyp.ylabel('fraction of jets/bin')\n",
    "pyp.legend(loc='upper right')\n",
    "#pyp.gca().set_yscale(\"log\")\n",
    "\n",
    "pyp.tight_layout()\n",
    "fig = pyp.show()"
   ]
  },
  {
   "cell_type": "code",
   "execution_count": 41,
   "metadata": {},
   "outputs": [
    {
     "data": {
      "image/png": "[encoded data removed]",
      "text/plain": [
       "<matplotlib.figure.Figure at 0x7f3d3e871550>"
      ]
     },
     "metadata": {},
     "output_type": "display_data"
    }
   ],
   "source": [
    "#checking jets mass\n",
    "qjets_mass = []\n",
    "gjets_mass = []\n",
    "\n",
    "for iqj in fquark_jets:\n",
    "    p4qjet = ROOT.TLorentzVector()\n",
    "    p4qjet.SetPtEtaPhiE(0,0,0,0)\n",
    "    p4qsjet = ROOT.TLorentzVector()\n",
    "    for iiqj in range(len(iqj[1])):\n",
    "        p4qsjet.SetPtEtaPhiE(iqj[1][iiqj],iqj[2][iiqj],iqj[3][iiqj],iqj[4][iiqj])\n",
    "        p4qjet += p4qsjet\n",
    "    qjets_mass.append(p4qjet.M())\n",
    "        \n",
    "for igj in fgluon_jets:\n",
    "    p4gjet = ROOT.TLorentzVector()\n",
    "    p4gjet.SetPtEtaPhiE(0,0,0,0)\n",
    "    p4gsjet = ROOT.TLorentzVector()\n",
    "    for iigj in range(len(igj[1])):\n",
    "        p4gsjet.SetPtEtaPhiE(igj[1][iigj],igj[2][iigj],igj[3][iigj],igj[4][iigj])\n",
    "        p4gjet += p4gsjet\n",
    "    gjets_mass.append(p4gjet.M())\n",
    "\n",
    "fig = pyp.figure()\n",
    "fig.set_figheight(6)\n",
    "fig.set_figwidth(7)\n",
    "\n",
    "bins = np.linspace(0, 50, 50)\n",
    "fig = pyp.hist(qjets_mass, bins, weights=qweights, alpha=0.5, color='red', label='quark')\n",
    "fig = pyp.hist(gjets_mass, bins, weights=gweights, alpha=0.5, color='blue', label='gluon')\n",
    "fig = pyp.xlabel('Jet Mass from its constituents')\n",
    "fig = pyp.ylabel('fraction of jets/bin')\n",
    "pyp.legend(loc='upper right')\n",
    "#pyp.gca().set_yscale(\"log\")\n",
    "\n",
    "pyp.tight_layout()\n",
    "fig = pyp.show()"
   ]
  },
  {
   "cell_type": "code",
   "execution_count": 42,
   "metadata": {
    "collapsed": true
   },
   "outputs": [],
   "source": [
    "#shifts the subjets towards the 1st PFJet based on the highest pt subjet\n",
    "#eta'_i = eta_i - eta_0\n",
    "#phi'_i = phi_i - phi_0\n",
    "def translate(etas, phis, pts):\n",
    "    xShift = []\n",
    "    yShift = []\n",
    "    \n",
    "    #center based on 1st hardest subPFJet\n",
    "    index = np.argmax(pts)\n",
    "    xCenter = etas[index]\n",
    "    yCenter = phis[index]\n",
    "    \n",
    "    #etas and phis from subjets from 1st PFJet\n",
    "    for ix, iy in zip(etas, phis):\n",
    "        xShift.append( ix - xCenter )\n",
    "        yShift.append( iy - yCenter )\n",
    "    \n",
    "    return np.array(xShift), np.array(yShift)"
   ]
  },
  {
   "cell_type": "code",
   "execution_count": 43,
   "metadata": {
    "collapsed": true
   },
   "outputs": [],
   "source": [
    "#rotation not applied directly on eta-phi plane to preserve Lorentz invariances\n",
    "#the rotation is likely done around px\n",
    "def rotate(etas, phis, pts):\n",
    "    #finds a second hardest subPFJet to rotate towards the 1st subPFjet\n",
    "    index = np.argmax(pts)\n",
    "    xCenter = etas[index]\n",
    "    yCenter = phis[index]\n",
    "    maxPt = -1\n",
    "    v = 0\n",
    "    for ix, iy, ip in zip(etas, phis, pts):\n",
    "        dv = np.matrix([[ix],[iy]])-np.matrix([[xCenter],[yCenter]])\n",
    "        dR = np.linalg.norm(dv)\n",
    "        if(dR > 0.2 and ip > maxPt):\n",
    "            maxPt = ip\n",
    "            py = ip*math.sin(iy)\n",
    "            pz = ip*math.sinh(ix)\n",
    "            #computes the rotation angle\n",
    "            v = np.arctan2(py,pz) + np.radians(90)\n",
    "\n",
    "    rot_x = []\n",
    "    rot_y = []\n",
    "    #creates a rotation matrix\n",
    "    c, s = np.cos(v), np.sin(v)\n",
    "    R = np.matrix('{} {}; {} {}'.format(c, -s, s, c))\n",
    "\n",
    "    for ix, iy, iw in zip(etas, phis, pts):\n",
    "        #original components\n",
    "        py = iw*math.sin(iy)\n",
    "        pz = iw*math.sinh(ix)\n",
    "\n",
    "        #transforms components\n",
    "        rot = R*np.matrix([[py],[pz]])\n",
    "        rix, riy = np.arcsinh(rot[1,0]/iw), np.arcsin(rot[0,0]/iw)\n",
    "        \n",
    "        rot_x.append(rix)\n",
    "        rot_y.append(riy)\n",
    "        \n",
    "    return np.array(rot_x), np.array(rot_y)"
   ]
  },
  {
   "cell_type": "code",
   "execution_count": 44,
   "metadata": {
    "collapsed": true
   },
   "outputs": [],
   "source": [
    "#accounts for assymetry on energy distribution\n",
    "#keeps the jet average pt always in eta' positive range\n",
    "def reflect(etas, pts):\n",
    "    leftSum = 0\n",
    "    rightSum = 0\n",
    "    for ix, iw in zip(etas, pts):\n",
    "        if ix > 0: \n",
    "            rightSum += iw\n",
    "        elif ix < 0:\n",
    "            leftSum += iw\n",
    "                        \n",
    "    if(leftSum > rightSum):\n",
    "        ref_x = [e*(-1) for e in etas]\n",
    "        return np.array(ref_x)\n",
    "    else:\n",
    "        return np.array(etas)"
   ]
  },
  {
   "cell_type": "code",
   "execution_count": 45,
   "metadata": {
    "collapsed": true
   },
   "outputs": [],
   "source": [
    "#nx size of image in eta\n",
    "#ny size of image in phi\n",
    "def prepareImages(jets, nx, xmin, xmax, ny, ymin, ymax, pre_process):\n",
    "    njets = len(jets)\n",
    "    #njets = 1\n",
    "    \n",
    "    list_x = []\n",
    "    list_y = []\n",
    "    list_w = []\n",
    "\n",
    "    #determines the pixel of picture\n",
    "    xbins = np.linspace(xmin,xmax,nx+1)\n",
    "    ybins = np.linspace(ymin,ymax,ny+1)\n",
    "    \n",
    "    #creates an empty 'th2'\n",
    "    jet_images = np.zeros((njets, 1, nx, ny))\n",
    "\n",
    "    #loop over jets\n",
    "    for ijet in range(njets):\n",
    "        #get vars\n",
    "        pts = jets[ijet][1]\n",
    "        etas = jets[ijet][2]\n",
    "        phis = jets[ijet][3]\n",
    "        energies = jets[ijet][4]\n",
    "        charges = jets[ijet][5]\n",
    "        pdgIds = jets[ijet][6]\n",
    "        \n",
    "        #shifts the jet image to the center in (eta,phi) = (0,0)\n",
    "        if(pre_process[0]):\n",
    "            etas, phis = translate(etas, phis, pts)\n",
    "\n",
    "        #applies the rotation processing\n",
    "        if(pre_process[1]):\n",
    "            etas, phis = rotate(etas, phis, pts)\n",
    "                        \n",
    "        #applies the reflection processing\n",
    "        if(pre_process[2]):\n",
    "            etas = reflect(etas, pts)\n",
    "\n",
    "        #applies normalization\n",
    "        if(pre_process[3]):\n",
    "            sumPt = sum(pts)\n",
    "            pts = [ip/sumPt for ip in pts]\n",
    "\n",
    "        x = etas\n",
    "        y = phis\n",
    "        weights = pts\n",
    "        list_x.append(x)\n",
    "        list_y.append(y)\n",
    "        list_w.append(weights)\n",
    "        hist, xedges, yedges = np.histogram2d(x, y, weights=weights, bins=(xbins, ybins))\n",
    "        for ix in range(0,nx):\n",
    "            for iy in range(0,ny):\n",
    "                jet_images[ijet,0,ix,iy] = hist[ix,iy]\n",
    "\n",
    "                                        \n",
    "    return jet_images, list_x, list_y, list_w, xbins, ybins"
   ]
  },
  {
   "cell_type": "code",
   "execution_count": 46,
   "metadata": {},
   "outputs": [
    {
     "data": {
      "image/png": "[encoded data removed]",
      "text/plain": [
       "<matplotlib.figure.Figure at 0x7f3d547db710>"
      ]
     },
     "metadata": {},
     "output_type": "display_data"
    }
   ],
   "source": [
    "#chose amount of pixels\n",
    "nx = 31\n",
    "xmin = -0.8\n",
    "xmax = 0.8\n",
    "ny = 31\n",
    "ymin = -0.8\n",
    "ymax = 0.8\n",
    "proc = [True,False,False,False]\n",
    "\n",
    "#create and show jet images\n",
    "qjet_images, qlist_x, qlist_y, qlist_w, qxbins, qybins = prepareImages(fquark_jets, nx, xmin, xmax, ny, ymin, ymax, proc)\n",
    "\n",
    "qall_x = np.concatenate(qlist_x)\n",
    "qall_y = np.concatenate(qlist_y)\n",
    "qall_w = np.concatenate(qlist_w)\n",
    "#qall_w = 1.*qall_w/len(qjet_images) # to get average\n",
    "\n",
    "gjet_images, glist_x, glist_y, glist_w, gxbins, gybins = prepareImages(fgluon_jets, nx, xmin, xmax, ny, ymin, ymax, proc)\n",
    "\n",
    "gall_x = np.concatenate(glist_x)\n",
    "gall_y = np.concatenate(glist_y)\n",
    "gall_w = np.concatenate(glist_w)\n",
    "#gall_w = 1.*gall_w/len(gjet_images) # to get average\n",
    "\n",
    "fig = pyp.figure()\n",
    "fig.set_figheight(5)\n",
    "fig.set_figwidth(13)\n",
    "\n",
    "fig1 = fig.add_subplot(121)\n",
    "fig1 = pyp.hist2d(qall_x, qall_y, weights=qall_w, bins=(qxbins,qybins), norm=mpl.colors.LogNorm())\n",
    "fig1 = pyp.colorbar()\n",
    "fig1 = pyp.xlabel('eta')\n",
    "fig1 = pyp.ylabel('phi')\n",
    "fig1 = pyp.title('Quark Jet Image')\n",
    "\n",
    "fig2 = fig.add_subplot(122)\n",
    "fig2 = pyp.hist2d(gall_x, gall_y, weights=gall_w, bins=(gxbins,gybins), norm=mpl.colors.LogNorm())\n",
    "fig2 = pyp.colorbar()\n",
    "fig2 = pyp.xlabel('eta')\n",
    "fig2 = pyp.ylabel('phi')\n",
    "fig2 = pyp.title('Gluon Jet Image')\n",
    "\n",
    "pyp.tight_layout()\n",
    "fig = pyp.show()"
   ]
  },
  {
   "cell_type": "code",
   "execution_count": 47,
   "metadata": {},
   "outputs": [
    {
     "name": "stdout",
     "output_type": "stream",
     "text": [
      "_________________________________________________________________\n",
      "Layer (type)                 Output Shape              Param #   \n",
      "=================================================================\n",
      "input_12 (InputLayer)        (None, 1, 31, 31)         0         \n",
      "_________________________________________________________________\n",
      "conv2d_34 (Conv2D)           (None, 8, 31, 31)         3208      \n",
      "_________________________________________________________________\n",
      "activation_34 (Activation)   (None, 8, 31, 31)         0         \n",
      "_________________________________________________________________\n",
      "max_pooling2d_34 (MaxPooling (None, 8, 10, 10)         0         \n",
      "_________________________________________________________________\n",
      "conv2d_35 (Conv2D)           (None, 8, 10, 10)         25608     \n",
      "_________________________________________________________________\n",
      "activation_35 (Activation)   (None, 8, 10, 10)         0         \n",
      "_________________________________________________________________\n",
      "max_pooling2d_35 (MaxPooling (None, 8, 3, 3)           0         \n",
      "_________________________________________________________________\n",
      "conv2d_36 (Conv2D)           (None, 8, 3, 3)           25608     \n",
      "_________________________________________________________________\n",
      "activation_36 (Activation)   (None, 8, 3, 3)           0         \n",
      "_________________________________________________________________\n",
      "max_pooling2d_36 (MaxPooling (None, 8, 1, 1)           0         \n",
      "_________________________________________________________________\n",
      "flatten_12 (Flatten)         (None, 8)                 0         \n",
      "_________________________________________________________________\n",
      "dropout_23 (Dropout)         (None, 8)                 0         \n",
      "_________________________________________________________________\n",
      "dense_23 (Dense)             (None, 20)                180       \n",
      "_________________________________________________________________\n",
      "dropout_24 (Dropout)         (None, 20)                0         \n",
      "_________________________________________________________________\n",
      "dense_24 (Dense)             (None, 1)                 21        \n",
      "=================================================================\n",
      "Total params: 54,625\n",
      "Trainable params: 54,625\n",
      "Non-trainable params: 0\n",
      "_________________________________________________________________\n"
     ]
    },
    {
     "name": "stderr",
     "output_type": "stream",
     "text": [
      "/afs/cern.ch/user/m/mmelodea/keras/lib/python2.7/site-packages/ipykernel_launcher.py:6: UserWarning: Update your `Conv2D` call to the Keras 2 API: `Conv2D(8, (20, 20), padding=\"same\")`\n",
      "  \n",
      "/afs/cern.ch/user/m/mmelodea/keras/lib/python2.7/site-packages/ipykernel_launcher.py:9: UserWarning: Update your `Conv2D` call to the Keras 2 API: `Conv2D(8, (20, 20), padding=\"same\")`\n",
      "  if __name__ == '__main__':\n",
      "/afs/cern.ch/user/m/mmelodea/keras/lib/python2.7/site-packages/ipykernel_launcher.py:12: UserWarning: Update your `Conv2D` call to the Keras 2 API: `Conv2D(8, (20, 20), padding=\"same\")`\n",
      "  if sys.path[0] == '':\n",
      "/afs/cern.ch/user/m/mmelodea/keras/lib/python2.7/site-packages/ipykernel_launcher.py:20: UserWarning: Update your `Model` call to the Keras 2 API: `Model(outputs=sigmoid.0, inputs=/input_12)`\n"
     ]
    }
   ],
   "source": [
    "from keras.layers import AveragePooling2D\n",
    "\n",
    "# Model\n",
    "def build_conv_model():\n",
    "    input_layer = Input(shape=(1, nx, ny))\n",
    "    layer = Convolution2D(8, 20, 20, border_mode='same')(input_layer)\n",
    "    layer = Activation('tanh')(layer)\n",
    "    layer = MaxPooling2D(pool_size=(3,3))(layer)\n",
    "    layer = Convolution2D(8, 20, 20, border_mode='same')(layer)\n",
    "    layer = Activation('tanh')(layer)\n",
    "    layer = MaxPooling2D(pool_size=(3,3))(layer)\n",
    "    layer = Convolution2D(8, 20, 20, border_mode='same')(layer)\n",
    "    layer = Activation('tanh')(layer)\n",
    "    layer = MaxPooling2D(pool_size=(3,3))(layer)\n",
    "    layer = Flatten()(layer)\n",
    "    layer = Dropout(0.20)(layer)\n",
    "    layer = Dense(20)(layer)\n",
    "    layer = Dropout(0.10)(layer)\n",
    "    output_layer = Dense(1, activation='sigmoid')(layer)\n",
    "    model = Model(input=input_layer, output=output_layer)\n",
    "    model.compile(optimizer='adam', loss='binary_crossentropy', metrics=['accuracy'])\n",
    "    \n",
    "    return model\n",
    "\n",
    "conv_model = build_conv_model()\n",
    "conv_model.summary()"
   ]
  },
  {
   "cell_type": "code",
   "execution_count": 48,
   "metadata": {
    "collapsed": true
   },
   "outputs": [],
   "source": [
    "#prepare inputs for model\n",
    "X = np.concatenate([qjet_images, gjet_images])\n",
    "qY = np.ones(qjet_images.shape[0])\n",
    "gY = np.zeros(gjet_images.shape[0])\n",
    "Y = np.concatenate([qY, gY])\n",
    "\n",
    "encoder = LabelEncoder()\n",
    "encoder.fit(Y)\n",
    "encoded_Y = encoder.transform(Y)\n",
    "\n",
    "kfold = StratifiedKFold(n_splits=2, shuffle=True,  random_state=seed)\n",
    "early_stopping = EarlyStopping(monitor='val_loss', patience=10)"
   ]
  },
  {
   "cell_type": "code",
   "execution_count": 49,
   "metadata": {},
   "outputs": [
    {
     "data": {
      "image/png": "[encoded data removed]",
      "text/plain": [
       "<matplotlib.figure.Figure at 0x7f3d3c52bb10>"
      ]
     },
     "metadata": {},
     "output_type": "display_data"
    },
    {
     "name": "stdout",
     "output_type": "stream",
     "text": [
      "Train on 8370 samples, validate on 8370 samples\n",
      "Epoch 1/10\n",
      "302s - loss: 0.6240 - acc: 0.6493 - val_loss: 0.5755 - val_acc: 0.7091\n",
      "Epoch 2/10\n",
      "304s - loss: 0.5854 - acc: 0.7025 - val_loss: 0.5875 - val_acc: 0.6950\n",
      "Epoch 3/10\n",
      "303s - loss: 0.5714 - acc: 0.7139 - val_loss: 0.5789 - val_acc: 0.7022\n",
      "Epoch 4/10\n",
      "305s - loss: 0.5647 - acc: 0.7207 - val_loss: 0.5675 - val_acc: 0.7094\n",
      "Epoch 5/10\n",
      "305s - loss: 0.5560 - acc: 0.7251 - val_loss: 0.5813 - val_acc: 0.7041\n",
      "Epoch 6/10\n",
      "304s - loss: 0.5443 - acc: 0.7302 - val_loss: 0.5727 - val_acc: 0.7086\n",
      "Epoch 7/10\n",
      "309s - loss: 0.5357 - acc: 0.7369 - val_loss: 0.5664 - val_acc: 0.7183\n",
      "Epoch 8/10\n",
      "316s - loss: 0.5279 - acc: 0.7425 - val_loss: 0.5622 - val_acc: 0.7196\n",
      "Epoch 9/10\n",
      "311s - loss: 0.5117 - acc: 0.7526 - val_loss: 0.5666 - val_acc: 0.7164\n",
      "Epoch 10/10\n",
      "316s - loss: 0.4854 - acc: 0.7761 - val_loss: 0.5664 - val_acc: 0.7115\n",
      "Train on 8370 samples, validate on 8370 samples\n",
      "Epoch 1/10\n",
      "306s - loss: 0.6345 - acc: 0.6535 - val_loss: 0.5844 - val_acc: 0.6992\n",
      "Epoch 2/10\n",
      "308s - loss: 0.5791 - acc: 0.7044 - val_loss: 0.5696 - val_acc: 0.7084\n",
      "Epoch 3/10\n",
      "314s - loss: 0.5714 - acc: 0.7177 - val_loss: 0.5764 - val_acc: 0.7038\n",
      "Epoch 4/10\n",
      "311s - loss: 0.5645 - acc: 0.7203 - val_loss: 0.5660 - val_acc: 0.7125\n",
      "Epoch 5/10\n",
      "310s - loss: 0.5501 - acc: 0.7327 - val_loss: 0.5639 - val_acc: 0.7136\n",
      "Epoch 6/10\n",
      "308s - loss: 0.5442 - acc: 0.7330 - val_loss: 0.5607 - val_acc: 0.7165\n",
      "Epoch 7/10\n",
      "312s - loss: 0.5318 - acc: 0.7380 - val_loss: 0.5604 - val_acc: 0.7197\n",
      "Epoch 8/10\n",
      "309s - loss: 0.5178 - acc: 0.7546 - val_loss: 0.5620 - val_acc: 0.7180\n",
      "Epoch 9/10\n",
      "311s - loss: 0.5181 - acc: 0.7528 - val_loss: 0.5610 - val_acc: 0.7185\n",
      "Epoch 10/10\n",
      "311s - loss: 0.4778 - acc: 0.7812 - val_loss: 0.5838 - val_acc: 0.7217\n"
     ]
    },
    {
     "name": "stderr",
     "output_type": "stream",
     "text": [
      "/afs/cern.ch/user/m/mmelodea/keras/lib/python2.7/site-packages/ipykernel_launcher.py:6: UserWarning: Update your `Conv2D` call to the Keras 2 API: `Conv2D(8, (20, 20), padding=\"same\")`\n",
      "  \n",
      "/afs/cern.ch/user/m/mmelodea/keras/lib/python2.7/site-packages/ipykernel_launcher.py:9: UserWarning: Update your `Conv2D` call to the Keras 2 API: `Conv2D(8, (20, 20), padding=\"same\")`\n",
      "  if __name__ == '__main__':\n",
      "/afs/cern.ch/user/m/mmelodea/keras/lib/python2.7/site-packages/ipykernel_launcher.py:12: UserWarning: Update your `Conv2D` call to the Keras 2 API: `Conv2D(8, (20, 20), padding=\"same\")`\n",
      "  if sys.path[0] == '':\n",
      "/afs/cern.ch/user/m/mmelodea/keras/lib/python2.7/site-packages/ipykernel_launcher.py:20: UserWarning: Update your `Model` call to the Keras 2 API: `Model(outputs=sigmoid.0, inputs=/input_13)`\n",
      "/afs/cern.ch/user/m/mmelodea/keras/lib/python2.7/site-packages/ipykernel_launcher.py:20: UserWarning: Update your `Model` call to the Keras 2 API: `Model(outputs=sigmoid.0, inputs=/input_14)`\n"
     ]
    }
   ],
   "source": [
    "# Train and plot ROC curves\n",
    "from itertools import cycle\n",
    "from sklearn.metrics import roc_curve, auc\n",
    "from scipy import interp\n",
    "\n",
    "mean_tpr = 0.0\n",
    "mean_fpr = np.linspace(0, 1, 100)\n",
    "colors = cycle(['cyan', 'indigo', 'seagreen', 'yellow', 'blue', 'darkorange', 'red', 'black', 'green', 'brown'])\n",
    "lw = 2\n",
    "\n",
    "i = 0\n",
    "histories = []\n",
    "for (train, test), color in zip(kfold.split(X, encoded_Y), colors):\n",
    "    conv_model = build_conv_model()\n",
    "    history = conv_model.fit(X[train], encoded_Y[train], validation_data=(X[test], encoded_Y[test]), epochs=10, batch_size=128, verbose=2, callbacks=[early_stopping])\n",
    "    Y_score = conv_model.predict(X[test])\n",
    "    histories.append(history)\n",
    "    # Compute ROC curve and area the curve\n",
    "    fpr, tpr, thresholds = roc_curve(encoded_Y[test], Y_score)\n",
    "    mean_tpr += interp(mean_fpr, fpr, tpr)\n",
    "    mean_tpr[0] = 0.0\n",
    "    roc_auc = auc(fpr, tpr)\n",
    "    pyp.plot(fpr, tpr, lw=lw, color=color, label='ROC fold %d (area = %0.2f)' % (i, roc_auc))\n",
    "    i += 1\n",
    "pyp.plot([0, 1], [0, 1], linestyle='--', lw=lw, color='k', label='Luck')\n",
    "mean_tpr /= kfold.get_n_splits(X, encoded_Y)\n",
    "mean_tpr[-1] = 1.0\n",
    "mean_auc = auc(mean_fpr, mean_tpr)\n",
    "pyp.plot(mean_fpr, mean_tpr, color='g', linestyle='--',label='Mean ROC (area = %0.2f)' % mean_auc, lw=lw)\n",
    "pyp.xlim([0, 1.0])\n",
    "pyp.ylim([0, 1.0])\n",
    "pyp.xlabel('False Positive Rate')\n",
    "pyp.ylabel('True Positive Rate')\n",
    "pyp.title('Receiver operating characteristic example')\n",
    "pyp.legend(loc=\"lower right\")\n",
    "pyp.show()"
   ]
  },
  {
   "cell_type": "code",
   "execution_count": null,
   "metadata": {
    "collapsed": true
   },
   "outputs": [],
   "source": [
    "def deprocess_image(x):\n",
    "    # normalize tensor: center on 0., ensure std is 0.1\n",
    "    x -= x.mean()\n",
    "    x /= (x.std() + 1e-5)\n",
    "    x *= 0.1\n",
    "\n",
    "    # clip to [0, 1]\n",
    "    x += 0.5\n",
    "    x = np.clip(x, 0, 1)\n",
    "\n",
    "    # convert to RGB array\n",
    "    #x *= 255\n",
    "    if K.image_dim_ordering()=='tf':\n",
    "        x = x.transpose((1, 2, 0))\n",
    "        x = x.transpose((1, 0, 2))\n",
    "    #x = np.clip(x, 0, 255).astype('uint8')\n",
    "    return x"
   ]
  },
  {
   "cell_type": "code",
   "execution_count": null,
   "metadata": {
    "collapsed": true
   },
   "outputs": [],
   "source": [
    "# dimensions of the generated pictures for each filter.\n",
    "img_width = nx\n",
    "img_height = ny\n",
    "\n",
    "layer_dict = dict([(layer.name, layer) for layer in conv_model.layers])\n",
    "input_img = conv_model.input\n",
    "\n",
    "pics = {}\n",
    "num_filters = {}\n",
    "for key, layer in layer_dict.iteritems():\n",
    "    #if 'convolution2d' in key:\n",
    "    if 'conv2d' in key:\n",
    "        num_filters[key] = 8\n",
    "        \n",
    "layer_name = num_filters.keys()[1]\n",
    "\n",
    "print num_filters.keys()\n",
    "print layer_name # here we pick which layer to visualize"
   ]
  },
  {
   "cell_type": "code",
   "execution_count": null,
   "metadata": {
    "collapsed": true
   },
   "outputs": [],
   "source": [
    "kept_filters = []\n",
    "for filter_index in range(0,num_filters[layer_name]):\n",
    "    # build a loss function that maximizes the activation\n",
    "    # of the nth filter of the layer considered\n",
    "    layer_output = layer_dict[layer_name].output\n",
    "    if K.image_dim_ordering()=='tf':\n",
    "        loss = K.mean(layer_output[:, filter_index, :, :])\n",
    "    else:\n",
    "        loss = K.mean(layer_output[:, :, :, filter_index])\n",
    "\n",
    "    # compute the gradient of the input picture wrt this loss\n",
    "    grads = K.gradients(loss, input_img)[0]\n",
    "\n",
    "    # normalization trick: we normalize the gradient\n",
    "    grads /= (K.sqrt(K.mean(K.square(grads))) + 1e-5)\n",
    "\n",
    "    # this function returns the loss and grads given the input picture\n",
    "    iterate = K.function([input_img], [loss, grads])\n",
    "\n",
    "    # step size for gradient ascent\n",
    "    step = 1.\n",
    "\n",
    "    # we start from a gray image with some random noise\n",
    "    \n",
    "    if K.image_dim_ordering()=='tf':\n",
    "        input_img_data = np.random.random((1, img_width, img_height, 1))\n",
    "    else:\n",
    "        input_img_data = np.random.random((1, 1, img_width, img_height))\n",
    "        \n",
    "    input_img_data = (input_img_data - 0.5) * 20 + 128\n",
    "\n",
    "    # we run gradient ascent for 100 steps\n",
    "    for i in range(100):\n",
    "        loss_value, grads_value = iterate([input_img_data])\n",
    "        input_img_data += grads_value * step\n",
    "\n",
    "    # decode the resulting input image\n",
    "    img = deprocess_image(input_img_data[0])\n",
    "    kept_filters.append((img, loss_value))\n",
    "    \n",
    "fig = pyp.figure(figsize=(15,15))\n",
    "i = 0\n",
    "j = 0\n",
    "for img, loss  in kept_filters:\n",
    "    i+=1\n",
    "    fig.add_subplot(3,3,i)\n",
    "    pyp.imshow(img[0])\n",
    "    #pyp.colorbar()\n",
    "    \n",
    "pyp.tight_layout()\n",
    "fig = pyp.show()"
   ]
  },
  {
   "cell_type": "code",
   "execution_count": null,
   "metadata": {
    "collapsed": true
   },
   "outputs": [],
   "source": []
  }
 ],
 "metadata": {
  "kernelspec": {
   "display_name": "Python 2",
   "language": "python",
   "name": "python2"
  },
  "language_info": {
   "codemirror_mode": {
    "name": "ipython",
    "version": 2
   },
   "file_extension": ".py",
   "mimetype": "text/x-python",
   "name": "python",
   "nbconvert_exporter": "python",
   "pygments_lexer": "ipython2",
   "version": "2.7.10"
  }
 },
 "nbformat": 4,
 "nbformat_minor": 1
}

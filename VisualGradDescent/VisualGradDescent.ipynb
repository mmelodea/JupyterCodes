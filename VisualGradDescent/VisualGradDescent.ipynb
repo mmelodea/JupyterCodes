{
 "cells": [
  {
   "cell_type": "code",
   "execution_count": 1,
   "metadata": {},
   "outputs": [
    {
     "name": "stderr",
     "output_type": "stream",
     "text": [
      "Using Theano backend.\n"
     ]
    },
    {
     "data": {
      "application/javascript": [
       "\n",
       "require(['notebook'],\n",
       "  function() {\n",
       "    IPython.CodeCell.config_defaults.highlight_modes['magic_text/x-c++src'] = {'reg':[/^%%cpp/]};\n",
       "    console.log(\"JupyROOT - %%cpp magic configured\");\n",
       "  }\n",
       ");\n"
      ]
     },
     "metadata": {},
     "output_type": "display_data"
    },
    {
     "name": "stdout",
     "output_type": "stream",
     "text": [
      "Welcome to JupyROOT 6.07/07\n"
     ]
    }
   ],
   "source": [
    "#set adequate environment\n",
    "import os\n",
    "import sys\n",
    "import theano\n",
    "import keras\n",
    "theano.config.gcc.cxxflags = '-march=corei7'\n",
    "\n",
    "#load needed things\n",
    "from keras.models import Sequential, Model\n",
    "from keras.optimizers import SGD, Adam, Adagrad, Adadelta, RMSprop\n",
    "from keras.layers import Input, Activation, Dense\n",
    "#from keras.utils import np_utils\n",
    "#from keras.wrappers.scikit_learn import KerasClassifier\n",
    "#from keras.callbacks import EarlyStopping, ModelCheckpoint, LearningRateScheduler\n",
    "#from keras import backend as K\n",
    "# Run classifier with cross-validation and plot ROC curves\n",
    "#from itertools import cycle\n",
    "#from sklearn.metrics import roc_curve, auc\n",
    "#from sklearn.preprocessing import StandardScaler\n",
    "#from sklearn.preprocessing import LabelEncoder\n",
    "#from scipy import interp\n",
    "import numpy as np\n",
    "import matplotlib as mpl\n",
    "import matplotlib.pyplot as pyp\n",
    "#import itertools\n",
    "import math\n",
    "import ROOT\n",
    "\n",
    "# fix random seed for reproducibility\n",
    "seed = 7\n",
    "np.random.seed(seed)"
   ]
  },
  {
   "cell_type": "code",
   "execution_count": 2,
   "metadata": {},
   "outputs": [
    {
     "data": {
      "image/png": "[encoded data removed]",
      "text/plain": [
       "<matplotlib.figure.Figure at 0x7fe6a2a98f10>"
      ]
     },
     "metadata": {},
     "output_type": "display_data"
    }
   ],
   "source": [
    "#produces the distribution to fit\n",
    "w = 0.3\n",
    "b = 1.5\n",
    "\n",
    "rd = ROOT.TRandom()\n",
    "X = []\n",
    "Y = []\n",
    "e = []\n",
    "for i in range(20):\n",
    "    e.append(0)\n",
    "    ip = 1 - 1*rd.Rndm()\n",
    "    X.append( ip )\n",
    "    Y.append( b+w*ip )\n",
    "    \n",
    "#plot distribution\n",
    "pyp.errorbar(X, Y, e, fmt='o')\n",
    "pyp.xlabel('x')\n",
    "pyp.ylabel('y')\n",
    "pyp.grid(True)\n",
    "pyp.show()"
   ]
  },
  {
   "cell_type": "code",
   "execution_count": 3,
   "metadata": {},
   "outputs": [
    {
     "name": "stdout",
     "output_type": "stream",
     "text": [
      "wmin: 0.30, bmin: 1.50, Lmin: 0.00\n"
     ]
    }
   ],
   "source": [
    "#plot Loss space\n",
    "loss_name = 'mape'\n",
    "lw = []\n",
    "lb = []\n",
    "lL = []\n",
    "\n",
    "resolution = 100\n",
    "lmin = 100000\n",
    "wmin = 0\n",
    "bmin = 0\n",
    "s = 2\n",
    "for iw in range(int(w-s),int(w+s)):\n",
    "    for r1 in range(resolution):\n",
    "        iiw = iw + r1/float(resolution)\n",
    "        for ib in range(int(b-s),int(b+s)):\n",
    "            for r2 in range(resolution):\n",
    "                iib = ib + r2/float(resolution)\n",
    "                for ix in range(len(X)):\n",
    "                    y = Y[ix]\n",
    "                    yl = iib+iiw*X[ix]\n",
    "                    if(loss_name == \"mae\"):\n",
    "                        il = math.fabs(y-yl)\n",
    "                    if(loss_name == \"mse\"):\n",
    "                        il = 0.5*pow(y-yl,2)\n",
    "                    if(loss_name == \"mape\"):\n",
    "                        il = math.fabs(y-yl)/float(y+0.00001)\n",
    "                    \n",
    "                    lw.append( iiw )\n",
    "                    lb.append( iib )\n",
    "                    lL.append( il )\n",
    "                    if(il < lmin):\n",
    "                        lmin = il\n",
    "                        wmin = iiw\n",
    "                        bmin = iib\n",
    "                    #print \"p1: %.3f, p2: %.3f, L: %.3f\" % (ip1,ip2,il)\n",
    "print \"wmin: %.2f, bmin: %.2f, Lmin: %.2f\" % (wmin, bmin, lmin)"
   ]
  },
  {
   "cell_type": "code",
   "execution_count": null,
   "metadata": {},
   "outputs": [],
   "source": [
    "# updatable plot\n",
    "from IPython.display import clear_output\n",
    "from keras import backend as K\n",
    "from matplotlib.colors import LogNorm\n",
    "\n",
    "class Tscheduler(keras.callbacks.Callback):\n",
    "    def on_train_begin(self, logs={}):\n",
    "        self.i = 0\n",
    "        self.x = []\n",
    "        self.losses = []\n",
    "        #self.val_losses = []\n",
    "        self.accs = []\n",
    "        #self.val_accs = []\n",
    "        self.logs = []\n",
    "        self.ws = []\n",
    "        self.bs = []\n",
    "\n",
    "    def on_epoch_end(self, epoch, logs={}):\n",
    "        self.logs.append(logs)\n",
    "        self.x.append(self.i)\n",
    "        self.losses.append(logs.get('loss'))\n",
    "        #self.val_losses.append(logs.get('val_loss'))\n",
    "        self.accs.append(logs.get('acc'))\n",
    "        #self.val_accs.append(logs.get('val_acc'))\n",
    "        #getting the updated parameters\n",
    "        for layer in model.layers:\n",
    "            weights = layer.get_weights() # list of numpy arrays\n",
    "            \n",
    "        nw = weights[0][0]\n",
    "        nb = weights[1][0]\n",
    "        self.ws.append(nw)\n",
    "        self.bs.append(nb)\n",
    "        self.i += 1\n",
    "        \n",
    "        clear_output(wait=True)\n",
    "        fig = pyp.figure()\n",
    "        fig.set_figheight(6)\n",
    "        fig.set_figwidth(15)\n",
    "        pyp.rc(\"font\", size=15)\n",
    "\n",
    "        fig1 = fig.add_subplot(121)\n",
    "        pyp.plot(self.x, self.losses, label=\"tloss: %f\" % self.losses[len(self.losses)-1]) \n",
    "        #pyp.plot(self.x, self.val_losses, label=\"vloss: %f\" % self.val_losses[len(self.val_losses)-1])\n",
    "        pyp.xlabel('epochs')\n",
    "        pyp.ylabel('Loss')\n",
    "        pyp.legend()\n",
    "        pyp.grid(True)\n",
    "        \n",
    "        fig2 = fig.add_subplot(122)\n",
    "        pyp.plot(self.ws, self.bs, color='blue', label=\"w: %.2f, b: %.2f\" % (self.ws[len(self.ws)-1],self.bs[len(self.bs)-1]))\n",
    "        pyp.hist2d(lw, lb, bins=200, weights=lL, norm=LogNorm())\n",
    "        pyp.xlabel(\"weight (exp= %.1f)\" % w)\n",
    "        pyp.ylabel(\"bias (exp= %.1f)\" % b)\n",
    "        p1 = [w]\n",
    "        p2 = [b]\n",
    "        e = [0]\n",
    "        pyp.errorbar(p1, p2, e, fmt='o', color='red')\n",
    "        pyp.colorbar()\n",
    "        pyp.title('Parameters finding evolution')\n",
    "        pyp.legend()\n",
    "        #pyp.grid(True)\n",
    "\n",
    "        pyp.tight_layout()\n",
    "        fig = pyp.show()\n",
    "\n",
    "                \n",
    "            \n",
    "Tschedule = Tscheduler()"
   ]
  },
  {
   "cell_type": "code",
   "execution_count": null,
   "metadata": {},
   "outputs": [],
   "source": [
    "#A NN of just one neuron\n",
    "model = Sequential()\n",
    "model.add(Dense(1, input_dim=1, kernel_initializer='normal', activation='relu'))\n",
    "model.compile(loss=loss_name, optimizer='adam')\n",
    "print model.summary()"
   ]
  },
  {
   "cell_type": "code",
   "execution_count": null,
   "metadata": {},
   "outputs": [],
   "source": [
    "history1 = model.fit(X, Y, epochs=100, batch_size=1, verbose=0, callbacks=[Tschedule])"
   ]
  },
  {
   "cell_type": "code",
   "execution_count": null,
   "metadata": {},
   "outputs": [],
   "source": []
  }
 ],
 "metadata": {
  "kernelspec": {
   "display_name": "Python 2",
   "language": "python",
   "name": "python2"
  },
  "language_info": {
   "codemirror_mode": {
    "name": "ipython",
    "version": 2
   },
   "file_extension": ".py",
   "mimetype": "text/x-python",
   "name": "python",
   "nbconvert_exporter": "python",
   "pygments_lexer": "ipython2",
   "version": "2.7.10"
  }
 },
 "nbformat": 4,
 "nbformat_minor": 1
}

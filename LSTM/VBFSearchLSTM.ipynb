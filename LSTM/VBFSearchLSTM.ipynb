{
 "cells": [
  {
   "cell_type": "code",
   "execution_count": null,
   "metadata": {
    "collapsed": true
   },
   "outputs": [],
   "source": [
    "#set adequate flag for Theano on lxplus\n",
    "import theano\n",
    "theano.config.gcc.cxxflags = '-march=corei7'"
   ]
  },
  {
   "cell_type": "code",
   "execution_count": null,
   "metadata": {},
   "outputs": [],
   "source": [
    "#load needed things\n",
    "from sklearn.preprocessing import LabelEncoder\n",
    "from sklearn.model_selection import train_test_split\n",
    "from sklearn.model_selection import cross_val_score\n",
    "from sklearn.model_selection import StratifiedKFold\n",
    "from sklearn.preprocessing import StandardScaler\n",
    "from sklearn.pipeline import Pipeline\n",
    "from keras.models import Sequential, Model\n",
    "from keras.optimizers import SGD\n",
    "from keras.layers import Input, Activation, Dense, Convolution2D, MaxPooling2D, Dropout, Flatten\n",
    "from keras.utils import np_utils\n",
    "from keras.wrappers.scikit_learn import KerasClassifier\n",
    "from keras.callbacks import EarlyStopping\n",
    "import numpy as np\n",
    "import matplotlib as mpl\n",
    "import matplotlib.pyplot as pyp\n",
    "import ROOT\n",
    "import itertools\n",
    "import math\n",
    "\n",
    "# fix random seed for reproducibility\n",
    "seed = 7\n",
    "np.random.seed(seed)"
   ]
  },
  {
   "cell_type": "code",
   "execution_count": null,
   "metadata": {
    "collapsed": true
   },
   "outputs": [],
   "source": [
    "#format the inputs from TTree\n",
    "# 4D tensor (theano backend)\n",
    "# 1st dim is jet index\n",
    "# 2nd dim is eta bin\n",
    "# 3rd dim is phi bin\n",
    "# 4th dim is props value (pt, charge, pdgId, etc.)\n",
    "def formatInputs(files):\n",
    "    quark_jets = []#type 1\n",
    "    gluon_jets = []#type 0\n",
    "\n",
    "    for ifile in files:\n",
    "        tree = ifile.Get('HZZ4LeptonsAnalysisReduced')\n",
    "            \n",
    "        for ievt, evt in enumerate(tree):\n",
    "                    \n",
    "    return signal, background"
   ]
  },
  {
   "cell_type": "code",
   "execution_count": null,
   "metadata": {},
   "outputs": [],
   "source": [
    "#loads input data\n",
    "vbf_inputs = ROOT.TFile.Open('/afs/cern.ch/work/m/mmelodea/private/MonoHiggs/CMSSW_9_0_0/src/JetImageFiles/VBF_HToZZTo4L_M125_13TeV_powheg2_JHUgenV6_pythia8.root')\n",
    "ggh_inputs = ROOT.TFile.Open('/afs/cern.ch/work/m/mmelodea/private/MonoHiggs/CMSSW_9_0_0/src/JetImageFiles/GluGluHToZZTo4L_M125_13TeV_powheg2_JHUgenV6_pythia8.root')\n",
    "inputs = [vbf_inputs,ggh_inputs]\n",
    "\n",
    "#format tree inputs to adequate shape\n",
    "quark_jets, gluon_jets = formatInputs(inputs)\n",
    "print 'quark jets: %i' % len(quark_jets)\n",
    "print 'gluon jets: %i' % len(gluon_jets)"
   ]
  },
  {
   "cell_type": "code",
   "execution_count": null,
   "metadata": {},
   "outputs": [],
   "source": [
    "#filter events based on DR(eta,phi)\n",
    "maxDr = 0.1 #jet radius - ak4PFJetCHS\n",
    "fquark_jets = []\n",
    "fgluon_jets = []\n",
    "\n",
    "for ijet in quark_jets:\n",
    "    if(ijet[0] < maxDr):\n",
    "        fquark_jets.append([ijet[1],ijet[2],ijet[3],ijet[4],ijet[5]])\n",
    "        \n",
    "for ijet in gluon_jets:\n",
    "    if(ijet[0] < maxDr):\n",
    "        fgluon_jets.append([ijet[1],ijet[2],ijet[3],ijet[4],ijet[5]])\n",
    "        \n",
    "maxjets = min(len(fquark_jets),len(fgluon_jets))\n",
    "fquark_jets = [fquark_jets[i] for i in range(maxjets)]\n",
    "fgluon_jets = [fgluon_jets[i] for i in range(maxjets)]\n",
    "print 'quark jets: %i (%.2f)' % (len(fquark_jets),len(fquark_jets)/float(len(quark_jets)))\n",
    "print 'gluon jets: %i (%.2f)' % (len(fgluon_jets),len(fgluon_jets)/float(len(gluon_jets)))"
   ]
  },
  {
   "cell_type": "code",
   "execution_count": null,
   "metadata": {
    "scrolled": true
   },
   "outputs": [],
   "source": [
    "from keras.layers import LSTM, Bidirectional, Masking\n",
    "from keras.layers.embeddings import Embedding\n",
    "from keras.preprocessing import sequence\n",
    "\n",
    "# Bidirectional LSTM Model\n",
    "def build_bilstm_model(n_cand_per_jet, features_per_jet):\n",
    "    # Headline input: meant to receive sequences of 200 floats\n",
    "    # Note that we can name any layer by passing it a \"name\" argument.\n",
    "    i = Input(shape=(n_cand_per_jet, features_per_jet,), name='main_input')\n",
    "    # the masking layer will prevent the LSTM layer to consider the 0-padded jet values\n",
    "    m = Masking()(i)\n",
    "\n",
    "    # A LSTM will transform the vector sequence into a single vector,\n",
    "    # containing information about the entire sequence\n",
    "    # the Bidirectional will make the LSTM cell read the sequence from end to start and start to end at the same time\n",
    "    m = Bidirectional( LSTM(100) ) (m)\n",
    "    \n",
    "    auxiliary_output = Dense(1, activation='sigmoid', name='aux_output')(m)\n",
    "    model = Model(input=[i], output=[auxiliary_output])\n",
    "    model.compile(loss='binary_crossentropy', optimizer='adam', metrics=['accuracy'])\n",
    "    \n",
    "    return model\n",
    "\n",
    "## ADD THESE LINES TO PRINT MODEL SUMMARY\n",
    "model = build_bilstm_model(200, 3)\n",
    "print model.summary()"
   ]
  },
  {
   "cell_type": "code",
   "execution_count": null,
   "metadata": {
    "collapsed": true
   },
   "outputs": [],
   "source": [
    "njets = 1500\n",
    "n_cand_per_jet = 200\n",
    "features = {\n",
    "    'ak4pfcand_pt' : None,\n",
    "    'ak4pfcand_eta' : None,\n",
    "    'ak4pfcand_phi' : None,\n",
    "    'ak4pfcand_e' : None,\n",
    "    'ak4pfcand_charge' : None\n",
    "}\n",
    "features_per_jet = len(features)\n",
    "\n",
    "momentum_input = {}\n",
    "momentum_input['quark'] = np.zeros((njets, n_cand_per_jet, features_per_jet)) # 3 momentum\n",
    "momentum_input['gluon'] = np.zeros((njets, n_cand_per_jet, features_per_jet)) # 3 momentum"
   ]
  },
  {
   "cell_type": "code",
   "execution_count": null,
   "metadata": {
    "collapsed": true
   },
   "outputs": [],
   "source": [
    "for pfj in range(njets):\n",
    "    for sbj in range(n_cand_per_jet):\n",
    "        for prop in range(len(features)):\n",
    "            if(sbj < len(fquark_jets[pfj][prop])):\n",
    "                momentum_input['quark'][pfj][sbj][prop] = fquark_jets[pfj][prop][sbj]\n",
    "            if(sbj < len(fgluon_jets[pfj][prop])):\n",
    "                momentum_input['gluon'][pfj][sbj][prop] = fgluon_jets[pfj][prop][sbj]\n",
    "\n",
    "#print momentum_input['VBF']\n",
    "#print momentum_input['GGH']"
   ]
  },
  {
   "cell_type": "code",
   "execution_count": null,
   "metadata": {},
   "outputs": [],
   "source": [
    "# Run classifier with cross-validation and plot ROC curves\n",
    "from itertools import cycle\n",
    "from sklearn.metrics import roc_curve, auc\n",
    "from scipy import interp\n",
    "\n",
    "X = np.concatenate([momentum_input['quark'], momentum_input['gluon']])\n",
    "Y_TT = np.ones(momentum_input['quark'].shape[0])\n",
    "Y_QCD = np.zeros(momentum_input['gluon'].shape[0])\n",
    "Y = np.concatenate([Y_TT, Y_QCD])\n",
    "\n",
    "encoder = LabelEncoder()\n",
    "encoder.fit(Y)\n",
    "encoded_Y = encoder.transform(Y)\n",
    "\n",
    "kfold = StratifiedKFold(n_splits=2, shuffle=True,  random_state=seed)\n",
    "early_stopping = EarlyStopping(monitor='val_loss', patience=5)\n",
    "\n",
    "mean_tpr = 0.0\n",
    "mean_fpr = np.linspace(0, 1, 100)\n",
    "colors = cycle(['cyan', 'indigo', 'seagreen', 'yellow', 'blue', 'darkorange', 'red', 'black', 'green', 'brown'])\n",
    "lw = 2\n",
    "\n",
    "i = 0\n",
    "histories = []\n",
    "for i,((train, test), color) in enumerate(zip(kfold.split(X, encoded_Y), colors)):\n",
    "    print \"\\t\\tFold\",i\n",
    "    bilstm_model = build_bilstm_model(n_cand_per_jet, features_per_jet)\n",
    "    history = bilstm_model.fit(X[train], encoded_Y[train], \n",
    "                               validation_data=(X[test], encoded_Y[test]), \n",
    "                               nb_epoch=30, batch_size=128, \n",
    "                               verbose=1, callbacks=[early_stopping])\n",
    "    Y_score = bilstm_model.predict(X[test])\n",
    "    histories.append(history)\n",
    "    # Compute ROC curve and area the curve\n",
    "    fpr, tpr, thresholds = roc_curve(encoded_Y[test], Y_score)\n",
    "    mean_tpr += interp(mean_fpr, fpr, tpr)\n",
    "    mean_tpr[0] = 0.0\n",
    "    roc_auc = auc(fpr, tpr)\n",
    "    pyp.plot(fpr, tpr, lw=lw, color=color, label='ROC fold %d (area = %0.2f)' % (i, roc_auc))\n",
    "\n",
    "pyp.plot([0, 1], [0, 1], linestyle='--', lw=lw, color='k', label='Luck')\n",
    "mean_tpr /= kfold.get_n_splits(X, encoded_Y)\n",
    "mean_tpr[-1] = 1.0\n",
    "mean_auc = auc(mean_fpr, mean_tpr)\n",
    "pyp.plot(mean_fpr, mean_tpr, color='g', linestyle='--',label='Mean ROC (area = %0.2f)' % mean_auc, lw=lw)\n",
    "pyp.xlim([0, 1.0])\n",
    "pyp.ylim([0, 1.0])\n",
    "pyp.xlabel('False Positive Rate')\n",
    "pyp.ylabel('True Positive Rate')\n",
    "pyp.title('Receiver operating characteristic example')\n",
    "pyp.legend(loc=\"lower right\")\n",
    "pyp.show()"
   ]
  },
  {
   "cell_type": "code",
   "execution_count": null,
   "metadata": {
    "collapsed": true
   },
   "outputs": [],
   "source": []
  }
 ],
 "metadata": {
  "kernelspec": {
   "display_name": "Python 2",
   "language": "python",
   "name": "python2"
  },
  "language_info": {
   "codemirror_mode": {
    "name": "ipython",
    "version": 2
   },
   "file_extension": ".py",
   "mimetype": "text/x-python",
   "name": "python",
   "nbconvert_exporter": "python",
   "pygments_lexer": "ipython2",
   "version": "2.7.10"
  }
 },
 "nbformat": 4,
 "nbformat_minor": 2
}
